{
 "cells": [
  {
   "cell_type": "code",
   "execution_count": null,
   "metadata": {
    "collapsed": true
   },
   "outputs": [],
   "source": [
    "import numpy as np\n",
    "import pandas as pd\n",
    "from mpl_toolkits.basemap import Basemap\n",
    "import matplotlib.pyplot as plt\n",
    "from matplotlib.colors import Normalize, LinearSegmentedColormap, PowerNorm"
   ]
  },
  {
   "cell_type": "code",
   "execution_count": null,
   "metadata": {
    "collapsed": true
   },
   "outputs": [],
   "source": [
    "def plot_map(in_filename, color_mode='screen',\n",
    "             out_filename='flights_map_mpl.png', absolute=False):\n",
    "    \"\"\"Plots the given CSV data files use matplotlib basemap and saves it to\n",
    "    a PNG file.\n",
    "    Args:\n",
    "        in_filename: Filename of the CSV containing the data points.\n",
    "        out_filename: Output image filename\n",
    "        color_mode: Use 'screen' if you intend to use the visualisation for\n",
    "                    on screen display. Use 'print' to save the visualisation\n",
    "                    with printer-friendly colors.\n",
    "        absolute: set to True if you want coloring to depend on your dataset\n",
    "                  parameter value (ie for comparison).\n",
    "                  When set to false, each coordinate pair gets a different\n",
    "                  color.\n",
    "    \"\"\"\n",
    "\n",
    "    if color_mode == 'screen':\n",
    "        bg_color = (0.0, 0.0, 0, 1.0)\n",
    "        coast_color = (204/255.0, 0, 153/255.0, 0.7)\n",
    "        color_list = [(0.0, 0.0, 0.0, 0.0),\n",
    "                      (204/255.0, 0, 153/255.0, 0.6),\n",
    "                      (255/255.0, 204/255.0, 230/255.0, 1.0)]\n",
    "    else:\n",
    "        bg_color = (1.0, 1.0, 1.0, 1.0)\n",
    "        coast_color = (10.0/255.0, 10.0/255.0, 10/255.0, 0.8)\n",
    "        color_list = [(1.0, 1.0, 1.0, 0.0),\n",
    "                      (255/255.0, 204/255.0, 230/255.0, 1.0),\n",
    "                      (204/255.0, 0, 153/255.0, 0.6)\n",
    "                      ]\n",
    "\n",
    "    # define the expected CSV columns\n",
    "    CSV_COLS = ('dep_lat', 'dep_lon', 'arr_lat', 'arr_lon',\n",
    "                'nb_flights', 'CO2')\n",
    "\n",
    "    routes = pd.read_csv(in_filename, names=CSV_COLS, na_values=['\\\\N'],\n",
    "                         sep=';', skiprows=1)\n",
    "\n",
    "    num_routes = len(routes.index)\n",
    "\n",
    "    # normalize the dataset for color scale\n",
    "    norm = PowerNorm(0.3, routes['nb_flights'].min(),\n",
    "                     routes['nb_flights'].max())\n",
    "    # norm = Normalize(routes['nb_flights'].min(), routes['nb_flights'].max())\n",
    "\n",
    "    # create a linear color scale with enough colors\n",
    "    if absolute:\n",
    "        n = routes['nb_flights'].max()\n",
    "    else:\n",
    "        n = num_routes\n",
    "    cmap = LinearSegmentedColormap.from_list('cmap_flights', color_list,\n",
    "                                             N=n)\n",
    "    # create the map and draw country boundaries\n",
    "    plt.figure(figsize=(27, 20))\n",
    "    m = Basemap(projection='mill', lon_0=0)\n",
    "    m.drawcoastlines(color=coast_color, linewidth=1.0)\n",
    "    m.fillcontinents(color=bg_color, lake_color=bg_color)\n",
    "    m.drawmapboundary(fill_color=bg_color)\n",
    "\n",
    "    # plot each route with its color depending on the number of flights\n",
    "    for i, route in enumerate(routes.sort_values(by='nb_flights',\n",
    "                              ascending=True).iterrows()):\n",
    "        route = route[1]\n",
    "        if absolute:\n",
    "            color = cmap(norm(int(route['nb_flights'])))\n",
    "        else:\n",
    "            color = cmap(i * 1.0 / num_routes)\n",
    "\n",
    "        line, = m.drawgreatcircle(route['dep_lon'], route['dep_lat'],\n",
    "                                  route['arr_lon'], route['arr_lat'],\n",
    "                                  linewidth=0.5, color=color)\n",
    "        # if the path wraps the image, basemap plots a nasty line connecting\n",
    "        # the points at the opposite border of the map.\n",
    "        # we thus detect path that are bigger than 30km and split them\n",
    "        # by adding a NaN\n",
    "        path = line.get_path()\n",
    "        cut_point, = np.where(np.abs(np.diff(path.vertices[:, 0])) > 30000e3)\n",
    "        if len(cut_point) > 0:\n",
    "            cut_point = cut_point[0]\n",
    "            vertices = np.concatenate([path.vertices[:cut_point, :],\n",
    "                                      [[np.nan, np.nan]],\n",
    "                                      path.vertices[cut_point+1:, :]])\n",
    "            path.codes = None  # treat vertices as a serie of line segments\n",
    "            path.vertices = vertices\n",
    "\n",
    "    # save the map\n",
    "    plt.savefig(out_filename, format='png', bbox_inches='tight')\n",
    "\n"
   ]
  },
  {
   "cell_type": "code",
   "execution_count": null,
   "metadata": {
    "collapsed": true
   },
   "outputs": [],
   "source": []
  },
  {
   "cell_type": "code",
   "execution_count": null,
   "metadata": {
    "collapsed": true
   },
   "outputs": [],
   "source": []
  },
  {
   "cell_type": "code",
   "execution_count": null,
   "metadata": {
    "collapsed": true
   },
   "outputs": [],
   "source": [
    "\n",
    "if __name__ == '__main__':\n",
    "    # use 'screen' color mode for on-screen display. Use 'print' if you intend\n",
    "    # to print the map\n",
    "    plot_map('data.csv', 'screen', absolute=False)"
   ]
  }
 ],
 "metadata": {
  "kernelspec": {
   "display_name": "Python 3",
   "language": "python",
   "name": "python3"
  },
  "language_info": {
   "codemirror_mode": {
    "name": "ipython",
    "version": 3
   },
   "file_extension": ".py",
   "mimetype": "text/x-python",
   "name": "python",
   "nbconvert_exporter": "python",
   "pygments_lexer": "ipython3",
   "version": "3.6.2"
  }
 },
 "nbformat": 4,
 "nbformat_minor": 2
}
