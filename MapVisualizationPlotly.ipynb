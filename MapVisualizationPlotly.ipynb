{
 "cells": [
  {
   "cell_type": "code",
   "execution_count": 7,
   "metadata": {
    "collapsed": true
   },
   "outputs": [],
   "source": [
    "import plotly\n",
    "import pandas as pd\n",
    "plotly.offline.init_notebook_mode(connected=True)"
   ]
  },
  {
   "cell_type": "code",
   "execution_count": 10,
   "metadata": {
    "collapsed": true
   },
   "outputs": [],
   "source": [
    "data=pd.read_excel('complete_dataframe.xlsx', index_col=0)"
   ]
  },
  {
   "cell_type": "code",
   "execution_count": 33,
   "metadata": {},
   "outputs": [],
   "source": [
    "countries_to_remove=['Emissions to Belgium-Luxembourg', 'Emissions to European Union', 'Emissions to Other Asia, nes']\n",
    "data.drop(countries_to_remove, axis=1, inplace=True)"
   ]
  },
  {
   "cell_type": "code",
   "execution_count": 34,
   "metadata": {},
   "outputs": [],
   "source": [
    "emissions_cols=[col for col in data.columns if 'Emissions to' in col]"
   ]
  },
  {
   "cell_type": "code",
   "execution_count": 35,
   "metadata": {},
   "outputs": [],
   "source": [
    "emission_data=data[emissions_cols]"
   ]
  },
  {
   "cell_type": "code",
   "execution_count": 53,
   "metadata": {},
   "outputs": [
    {
     "name": "stdout",
     "output_type": "stream",
     "text": [
      "Removing Anguila\n",
      "Removing Netherlands Antilles\n",
      "Removing Cook Islands\n",
      "Removing Guadeloupe\n",
      "Removing French Guiana\n",
      "Removing Montserrat\n",
      "Removing Martinique\n",
      "Removing Mayotte\n",
      "Removing Reunion\n",
      "Removing Serbia, FR(Serbia/Montenegro)\n",
      "Removing East Timor\n"
     ]
    }
   ],
   "source": [
    "columns_to_remove=[]\n",
    "for column in emission_data:\n",
    "    country_name = column.replace('Emissions to ', '')\n",
    "    if country_name not in emission_data.index:\n",
    "        print('Removing', country_name)\n",
    "        columns_to_remove.append('Emissions to '+country_name)\n",
    "        \n",
    "#         emission_data=emission_data.drop['Emissions to '+country]"
   ]
  },
  {
   "cell_type": "code",
   "execution_count": 57,
   "metadata": {},
   "outputs": [
    {
     "name": "stderr",
     "output_type": "stream",
     "text": [
      "/anaconda3/lib/python3.6/site-packages/ipykernel_launcher.py:1: SettingWithCopyWarning: \n",
      "A value is trying to be set on a copy of a slice from a DataFrame\n",
      "\n",
      "See the caveats in the documentation: http://pandas.pydata.org/pandas-docs/stable/indexing.html#indexing-view-versus-copy\n",
      "  \"\"\"Entry point for launching an IPython kernel.\n"
     ]
    }
   ],
   "source": [
    "emission_data.drop(columns_to_remove, axis=1, inplace=True)"
   ]
  },
  {
   "cell_type": "code",
   "execution_count": 66,
   "metadata": {},
   "outputs": [],
   "source": [
    "export_country=[]\n",
    "import_country=[]\n",
    "emissions_transferred=[]\n",
    "\n",
    "for country in emission_data.index:\n",
    "    for column in emission_data:\n",
    "        if emission_data[column][country]>0.1:\n",
    "            exp_long=data['Longitude'][country]\n",
    "            exp_lat=data['Latitude'][country]\n",
    "            exp_tup=(exp_long, exp_lat)\n",
    "            \n",
    "            column_country = column.replace(\"Emissions to \", \"\")\n",
    "            imp_long=data['Longitude'][column_country]\n",
    "            imp_lat=data['Latitude'][column_country]\n",
    "            imp_tup=(imp_long, imp_lat)\n",
    "            \n",
    "            emissions_to_country=emission_data[column][country]\n",
    "            \n",
    "            export_country.append(exp_tup)\n",
    "            import_country.append(imp_tup)\n",
    "            emissions_transferred.append(emissions_to_country)"
   ]
  },
  {
   "cell_type": "code",
   "execution_count": 78,
   "metadata": {
    "collapsed": true
   },
   "outputs": [],
   "source": [
    "scaled_emissions=emissions_transferred/max(emissions_transferred)"
   ]
  },
  {
   "cell_type": "code",
   "execution_count": 92,
   "metadata": {
    "collapsed": true
   },
   "outputs": [],
   "source": [
    "coords_df_export=pd.DataFrame(export_country)\n",
    "coords_df_import=pd.DataFrame(import_country)\n",
    "coords_df_emissions=pd.DataFrame(emissions_transferred)"
   ]
  },
  {
   "cell_type": "code",
   "execution_count": 103,
   "metadata": {},
   "outputs": [],
   "source": [
    "coords_df=pd.concat([coords_df_export, coords_df_import, coords_df_emissions], axis=1)\n",
    "coords_df.columns=['start_lon', 'start_lat', 'end_lon', 'end_lat', 'emissions']"
   ]
  },
  {
   "cell_type": "code",
   "execution_count": 94,
   "metadata": {
    "collapsed": true
   },
   "outputs": [],
   "source": [
    "import itertools"
   ]
  },
  {
   "cell_type": "code",
   "execution_count": 97,
   "metadata": {
    "collapsed": true
   },
   "outputs": [],
   "source": [
    "contours = []\n",
    "\n",
    "scl = ['rgb(213,62,79)','rgb(244,109,67)','rgb(253,174,97)',\\\n",
    "       'rgb(254,224,139)','rgb(255,255,191)','rgb(230,245,152)',\\\n",
    "       'rgb(171,221,164)','rgb(102,194,165)','rgb(50,136,189)']\n",
    "\n",
    "def pairwise(iterable):\n",
    "    a = iter(iterable)\n",
    "    return zip(a, a)"
   ]
  },
  {
   "cell_type": "code",
   "execution_count": 104,
   "metadata": {},
   "outputs": [],
   "source": [
    "emission_transfers = []\n",
    "for i in range( len( coords_df ) ):\n",
    "    emission_transfers.append(\n",
    "        dict(\n",
    "            type = 'scattergeo',\n",
    "            locationmode = 'country names',\n",
    "            lon = [ coords_df['start_lon'][i], coords_df['end_lon'][i] ],\n",
    "            lat = [ coords_df['start_lat'][i], coords_df['end_lat'][i] ],\n",
    "            mode = 'lines',\n",
    "            line = dict(\n",
    "                width = 1,\n",
    "                color = 'red',\n",
    "            ),\n",
    "            opacity = float(coords_df['emissions'][i])/float(coords_df['emissions'].max()),\n",
    "        )\n",
    "    )"
   ]
  },
  {
   "cell_type": "code",
   "execution_count": 117,
   "metadata": {},
   "outputs": [
    {
     "name": "stderr",
     "output_type": "stream",
     "text": [
      "/anaconda3/lib/python3.6/site-packages/plotly/offline/offline.py:459: UserWarning:\n",
      "\n",
      "Your filename `d3-emissions` didn't end with .html. Adding .html to the end of your file.\n",
      "\n"
     ]
    }
   ],
   "source": [
    "layout = dict(\n",
    "        title = 'Emission Transfers Across World',\n",
    "        showlegend = False,\n",
    "        geo = dict(\n",
    "#             scope='north america',\n",
    "            projection=dict( type='azimuthal equal area' ),\n",
    "            showland = True,\n",
    "            landcolor = 'rgb(243, 243, 243)',\n",
    "            countrycolor = 'rgb(204, 204, 204)',\n",
    "        ),\n",
    "    )\n",
    "\n",
    "fig = dict( data=emission_transfers, layout=layout )\n",
    "url = plotly.offline.plot( fig, filename='EmissionFlows.html' )"
   ]
  },
  {
   "cell_type": "code",
   "execution_count": null,
   "metadata": {
    "collapsed": true
   },
   "outputs": [],
   "source": []
  }
 ],
 "metadata": {
  "kernelspec": {
   "display_name": "Python 3",
   "language": "python",
   "name": "python3"
  },
  "language_info": {
   "codemirror_mode": {
    "name": "ipython",
    "version": 3
   },
   "file_extension": ".py",
   "mimetype": "text/x-python",
   "name": "python",
   "nbconvert_exporter": "python",
   "pygments_lexer": "ipython3",
   "version": "3.6.2"
  }
 },
 "nbformat": 4,
 "nbformat_minor": 2
}
