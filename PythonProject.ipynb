{
 "cells": [
  {
   "cell_type": "code",
   "execution_count": 2,
   "metadata": {
    "collapsed": true
   },
   "outputs": [],
   "source": [
    "import requests\n",
    "import pandas as pd\n",
    "from pathlib import Path\n",
    "import numpy as np"
   ]
  },
  {
   "cell_type": "code",
   "execution_count": 99,
   "metadata": {
    "collapsed": true
   },
   "outputs": [],
   "source": [
    "countries=pd.read_excel('UNSD — Methodology.xlsx', sheetname='Sheet1')"
   ]
  },
  {
   "cell_type": "code",
   "execution_count": 101,
   "metadata": {
    "collapsed": true
   },
   "outputs": [],
   "source": [
    "countries=countries.dropna(axis=0, subset=['ISO-alpha3 Code'])"
   ]
  },
  {
   "cell_type": "code",
   "execution_count": 60,
   "metadata": {},
   "outputs": [],
   "source": [
    "trade_data=pd.read_csv(\"DataJobID-1257172_1257172_TestQuery.csv\" , encoding = \"ISO-8859-1\")"
   ]
  },
  {
   "cell_type": "code",
   "execution_count": 17,
   "metadata": {
    "collapsed": true
   },
   "outputs": [],
   "source": [
    "# countries_to_remove=['Belgium-Luxembourg', 'European Union', 'Other Asia, nes',' World']"
   ]
  },
  {
   "cell_type": "code",
   "execution_count": 18,
   "metadata": {
    "collapsed": true
   },
   "outputs": [],
   "source": [
    "# for country in countries_to_remove:\n",
    "#     trade_data_export = trade_data_export[trade_data_export.Reporter != country]"
   ]
  },
  {
   "cell_type": "code",
   "execution_count": 67,
   "metadata": {},
   "outputs": [],
   "source": [
    "years = list(range(1995,2016))\n",
    "countries=list(trade_data['ReporterName'].unique())"
   ]
  },
  {
   "cell_type": "code",
   "execution_count": 68,
   "metadata": {
    "collapsed": true
   },
   "outputs": [],
   "source": [
    "\"\"\"\n",
    "MultiIndex array is three-dimensional: year*country*country\n",
    "\"\"\" \n",
    "#magically make MultiIndex slicing better\n",
    "idx = pd.IndexSlice\n",
    "\n",
    "#build MultiIndex array\n",
    "rows_array = []\n",
    "for year in years:\n",
    "    for country in countries:\n",
    "        rows_array.append([year,country])\n",
    "        \n",
    "multi_index = pd.MultiIndex.from_tuples(rows_array, names=['year', 'country'])\n",
    "data = pd.DataFrame(columns=countries,index=multi_index)\n",
    "\n"
   ]
  },
  {
   "cell_type": "code",
   "execution_count": 75,
   "metadata": {},
   "outputs": [],
   "source": [
    "for index, row in trade_data.iterrows():\n",
    "    for year in years:\n",
    "        year_key=str(year)+\" in 1000 USD \"\n",
    "        data.loc[year][row['ReporterName']][row['PartnerName']]=row[year_key]\n"
   ]
  },
  {
   "cell_type": "code",
   "execution_count": 103,
   "metadata": {},
   "outputs": [],
   "source": [
    "data_filled=data.fillna(0)"
   ]
  },
  {
   "cell_type": "code",
   "execution_count": 96,
   "metadata": {},
   "outputs": [],
   "source": [
    "def WriteToExcel(dataframe, filename='trade_data.xlsx'):\n",
    "    writer = pd.ExcelWriter(filename) \n",
    "    for year in years:\n",
    "        df_to_write = dataframe.loc[year]\n",
    "        df_to_write.to_excel(writer, str(year))\n",
    "            \n"
   ]
  },
  {
   "cell_type": "code",
   "execution_count": 98,
   "metadata": {},
   "outputs": [],
   "source": [
    "WriteToExcel(data)"
   ]
  },
  {
   "cell_type": "code",
   "execution_count": null,
   "metadata": {
    "collapsed": true
   },
   "outputs": [],
   "source": []
  }
 ],
 "metadata": {
  "kernelspec": {
   "display_name": "Python 3",
   "language": "python",
   "name": "python3"
  },
  "language_info": {
   "codemirror_mode": {
    "name": "ipython",
    "version": 3
   },
   "file_extension": ".py",
   "mimetype": "text/x-python",
   "name": "python",
   "nbconvert_exporter": "python",
   "pygments_lexer": "ipython3",
   "version": "3.6.2"
  }
 },
 "nbformat": 4,
 "nbformat_minor": 2
}
