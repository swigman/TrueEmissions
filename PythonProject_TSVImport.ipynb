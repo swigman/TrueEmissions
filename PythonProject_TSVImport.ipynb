{
 "cells": [
  {
   "cell_type": "code",
   "execution_count": 1,
   "metadata": {
    "collapsed": true
   },
   "outputs": [],
   "source": [
    "#all imports\n",
    "import requests\n",
    "import pandas as pd\n",
    "from pathlib import Path\n",
    "import numpy as np\n",
    "import os"
   ]
  },
  {
   "cell_type": "code",
   "execution_count": 2,
   "metadata": {
    "collapsed": true
   },
   "outputs": [],
   "source": [
    "idx = pd.IndexSlice  #magically make MultiIndex slicing better"
   ]
  },
  {
   "cell_type": "code",
   "execution_count": 3,
   "metadata": {
    "collapsed": true
   },
   "outputs": [],
   "source": [
    "#create and reduce list of countries\n",
    "#countries=pd.read_excel('raw_data/UNSD — Methodology.xlsx', sheetname='Sheet1')\n",
    "#countries=countries.dropna(axis=0, subset=['ISO-alpha3 Code'])"
   ]
  },
  {
   "cell_type": "code",
   "execution_count": 4,
   "metadata": {
    "collapsed": true
   },
   "outputs": [],
   "source": [
    "#load original data\n",
    "trade_data=pd.read_csv(\"raw_data/DataJobID-1257172_1257172_TestQuery.csv\" , encoding = \"ISO-8859-1\")"
   ]
  },
  {
   "cell_type": "code",
   "execution_count": 5,
   "metadata": {},
   "outputs": [],
   "source": [
    "#create data structures for building multi index dataframe\n",
    "years = list(range(1995,2016))\n",
    "countries=list(trade_data['ReporterName'].unique())"
   ]
  },
  {
   "cell_type": "code",
   "execution_count": 6,
   "metadata": {
    "collapsed": true
   },
   "outputs": [],
   "source": [
    "#TODO remove these\n",
    "# countries_to_remove=['Belgium-Luxembourg', 'European Union', 'Other Asia, nes',' World']\n",
    "# for country in countries_to_remove:\n",
    "#     trade_data_export = trade_data_export[trade_data_export.Reporter != country]"
   ]
  },
  {
   "cell_type": "code",
   "execution_count": 7,
   "metadata": {
    "collapsed": true
   },
   "outputs": [],
   "source": [
    "def build_multi_index_df(years, countries):\n",
    "    \"\"\"\n",
    "    Function which builds multi index dataframe suitable for this analysis.\n",
    "    MultiIndex array is three-dimensional: year*country*country\n",
    "    \"\"\" \n",
    "\n",
    "    #build MultiIndex array\n",
    "    rows_array = []\n",
    "    for year in years:\n",
    "        for country in countries:\n",
    "            rows_array.append([year,country])\n",
    "        \n",
    "    multi_index = pd.MultiIndex.from_tuples(rows_array, names=['year', 'country'])\n",
    "    data = pd.DataFrame(columns=countries, index=multi_index)\n",
    "    return data\n",
    "\n"
   ]
  },
  {
   "cell_type": "code",
   "execution_count": 8,
   "metadata": {},
   "outputs": [],
   "source": [
    "#create dataframe structure\n",
    "data = build_multi_index_df(years,countries)"
   ]
  },
  {
   "cell_type": "code",
   "execution_count": 9,
   "metadata": {
    "collapsed": true
   },
   "outputs": [],
   "source": [
    "#fill dataframe with values from data\n",
    "#Caution, takes roughly 5 minutes!\n",
    "for index, row in trade_data.iterrows():\n",
    "    for year in years:\n",
    "        year_key=str(year)+\" in 1000 USD \"\n",
    "        data.loc[year][row['ReporterName']][row['PartnerName']]=row[year_key]\n"
   ]
  },
  {
   "cell_type": "code",
   "execution_count": 10,
   "metadata": {
    "collapsed": true
   },
   "outputs": [],
   "source": [
    "#fill NaNs\n",
    "data_filled=data.fillna(0)"
   ]
  },
  {
   "cell_type": "code",
   "execution_count": 12,
   "metadata": {
    "collapsed": true
   },
   "outputs": [],
   "source": [
    "#write to TSV\n",
    "data_filled.to_csv('trade_data.tsv', sep='\\t')"
   ]
  },
  {
   "cell_type": "code",
   "execution_count": 13,
   "metadata": {},
   "outputs": [],
   "source": [
    "#read from TSV\n",
    "imported_data = pd.read_table('trade_data.tsv', index_col=[0,1])"
   ]
  },
  {
   "cell_type": "code",
   "execution_count": 18,
   "metadata": {},
   "outputs": [
    {
     "data": {
      "text/plain": [
       "True"
      ]
     },
     "execution_count": 18,
     "metadata": {},
     "output_type": "execute_result"
    }
   ],
   "source": [
    "#compare whether identical\n",
    "all(imported_data == data_filled)"
   ]
  }
 ],
 "metadata": {
  "kernelspec": {
   "display_name": "Python 3",
   "language": "python",
   "name": "python3"
  },
  "language_info": {
   "codemirror_mode": {
    "name": "ipython",
    "version": 3
   },
   "file_extension": ".py",
   "mimetype": "text/x-python",
   "name": "python",
   "nbconvert_exporter": "python",
   "pygments_lexer": "ipython3",
   "version": "3.6.1"
  }
 },
 "nbformat": 4,
 "nbformat_minor": 2
}
