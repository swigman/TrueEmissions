{
 "cells": [
  {
   "cell_type": "markdown",
   "metadata": {},
   "source": [
    "# Import/Export-Adjusted Green House Gas Emissions\n",
    "## Final Assignment for EPA1333 Computer Engineering for Scientific Computing\n",
    "Authors:\n",
    "\n",
    "Patrick Steinmann #4623991\n",
    "\n",
    "Stefan Wigman     #4016246"
   ]
  },
  {
   "cell_type": "markdown",
   "metadata": {},
   "source": [
    "## Abstract\n",
    "High-pollutant industrial processes often take place in developing countries, the resulting products often being exported to developed countries. We analyze this \"offshoring\" of green house gas (GHG) emissions by considering country-to-country import/export balances and national GHG emissions. We attempt to assign each country each it's \"true\" GHG emissions by determining which emissions that country causes in other countries, and then attributing these \"offshored\" emissions accordingly. We find that well-developed countries such as Germany, France or Japan account for the largest gaps between nominal and true emissions, while developing industrial nations such as China, Russia and India are the largest onshorers of emissions."
   ]
  },
  {
   "cell_type": "markdown",
   "metadata": {},
   "source": [
    "## Introduction\n",
    "In partial fulfillment of the course requirements of EPA1333, we were tasked to conduct an original and non-trivial data analysis related to climate change.\n",
    "\n",
    "We chose to investigate the phenomenon of \"outsourcing\" green house gas (GHG) emissions. Many emission-intensive activities take place in countries with poor emissions records - however, these countries often export the products of these activities to countries with much better emissions records. In essence, the emissions are being outsourced. A simple example is the import of electrical energy - highly polluting coal is burned in a power plant in poorly developed country A, and the generated energy is exported to highly developed country B. Country B can claim low GHG emissions - after all, the coal is being burned in A, which, as a poorly developed country, has much more leeway regarding pollution. However, the resulting emissions should really be attributed to country B, since that is where the energy ends up.\n",
    "\n",
    "Our research question therefore is as follows:\n",
    "\n",
    "*How do countries' claimed GHG emissions compare to their true emissions, when accounting for offshoring of emissions through import/export?*"
   ]
  },
  {
   "cell_type": "markdown",
   "metadata": {},
   "source": [
    "## Methodology\n",
    "### Approach\n",
    "\n",
    "We tackled our research question by first finding, importing and cleaning import/export data between countries. Specifically, we were interested in total import/export (that is, goods and services) from and to each country. We did not differentiate by type of goods.\n",
    "\n",
    "We then obtained data on every country's GDP and GHG emissions. These emissions are reported as total GHG emitted over a year in a country, irrespective of use/destination.\n",
    "\n",
    "$ emissions_{nominal} = emissions_{self} + emissions_{export} $\n",
    "\n",
    "By comparing export volume and GDP, we were able to estimate which percentage of a country's GHG emissions are \"self-caused\", and which are \"offshored\" - that is, emissions created by products destined to by exported. In essence, these emissions could be attributed to the country importing those products, not the emittant's.\n",
    "\n",
    "We then assigned each country, based on its imports, a percentage of their import partners' GHG emissions, thus arriving at each country's import/export adjusted (or \"true\") emissions.\n",
    "\n",
    "$ emissions_{true} = emissions_{self} + emissions_{import} $\n",
    "\n",
    "Finally, we presented the resulting data in various ways using different visualization packages."
   ]
  },
  {
   "cell_type": "markdown",
   "metadata": {},
   "source": [
    "### Assumptions & Simplifications\n",
    "We assume that every country exports a broadly similar product palette to every export partner - that is, if country X produces apples, boats and cars, it exports all three to both Y and Z, not just apples to Y and boats and cars to Z. Thus, we do not need to differentiate between exported goods.\n",
    "\n",
    "To simplify our analysis, we ignore re-export and -import of goods. The data is available, but it would significantly complicate the attribution of emissions."
   ]
  },
  {
   "cell_type": "markdown",
   "metadata": {},
   "source": [
    "## Results/Work\n",
    "### Setup\n",
    "In a first step, we import all packages used throughout this notebook. These packages add functionality and features. Most of the packages are Anaconda-default or commonly used. wbdata is the exception - this package is essentially an API for accessing World Bank Development Indicators data in an efficient, pandas-integrated fashion.\n",
    "\n",
    "We also import a custom .py file called ProjectFunctions. It holds all the functions created for and applied in this analysis. Maintaining an external functions package keeps this notebook cleaner and easier to understand.\n",
    "\n",
    "Note: It is technically considered bad form to import entire packages. The more Pythonic approach would be to only import specifically those functions which we require for our analysis. For the sake of expedience, we choose the less secure method of importing everything."
   ]
  },
  {
   "cell_type": "code",
   "execution_count": null,
   "metadata": {
    "collapsed": true
   },
   "outputs": [],
   "source": [
    "import matplotlib.pyplot as plt\n",
    "import pandas as pd\n",
    "import numpy as np\n",
    "import geopandas as gp\n",
    "import os\n",
    "import datetime\n",
    "import wbdata\n",
    "import requests\n",
    "\n",
    "from pathlib import Path\n",
    "\n",
    "from ProjectFunctions import *"
   ]
  },
  {
   "cell_type": "markdown",
   "metadata": {},
   "source": [
    "We override a default pandas option to make chained assignments not throw warnings."
   ]
  },
  {
   "cell_type": "code",
   "execution_count": null,
   "metadata": {
    "collapsed": true
   },
   "outputs": [],
   "source": [
    "pd.options.mode.chained_assignment = None  # default='warn'"
   ]
  },
  {
   "cell_type": "markdown",
   "metadata": {},
   "source": [
    "As we intend to use a pandas multi-index dataframe, we create an IndexSlice object to make multi index slicing syntax more natural. This is optional."
   ]
  },
  {
   "cell_type": "code",
   "execution_count": null,
   "metadata": {
    "collapsed": true
   },
   "outputs": [],
   "source": [
    "idx = pd.IndexSlice"
   ]
  },
  {
   "cell_type": "markdown",
   "metadata": {},
   "source": [
    "### Data Import & Cleaning\n",
    "#### Country to Country Trade Data\n",
    "We first import the raw country-to-country trade data from a CSV file, using suitable encoding. This CSV file was obtained through a web interface provided by the World Bank and cannot easily be reproduced. Therefore, it is included with this report. The data source is listed more clearly at the end of this report."
   ]
  },
  {
   "cell_type": "code",
   "execution_count": null,
   "metadata": {
    "collapsed": true
   },
   "outputs": [],
   "source": [
    "trade_data=pd.read_csv(\"DataJobID-1257172_1257172_TestQuery.csv\" , encoding = \"ISO-8859-1\")"
   ]
  },
  {
   "cell_type": "markdown",
   "metadata": {},
   "source": [
    "A thorny aspect of dealing with country-level data is the wildly differing standards for labelling the data. Various databases use full country names in various spellings, two-character ISO codes, three-character ISO codes, three-character IOC (International Olympic Committee) codes, or other identifiers. Thus, data alignment can be an issue. We decide to use ISO3 as our common identifier, and therefore create a dictionary to manage the conversions."
   ]
  },
  {
   "cell_type": "code",
   "execution_count": null,
   "metadata": {
    "collapsed": true
   },
   "outputs": [],
   "source": [
    "dic_cols=['ReporterISO3', 'ReporterName']\n",
    "dic_df=trade_data[dic_cols].drop_duplicates()\n",
    "country_dic=dic_df.set_index('ReporterName')['ReporterISO3'].to_dict()\n",
    "inv_country_dic = {v: k for k, v in country_dic.items()}"
   ]
  },
  {
   "cell_type": "markdown",
   "metadata": {},
   "source": [
    "We intend to build a multi-index dataframe to hold trade data between countries over a range of years. Multi-index dataframes are n-dimensional dataframes. In our case, we will use three dimensions - for each year (time being the third dimension), a two-dimensional dataframe holds the country-to-country trade data.\n",
    "\n",
    "To build the multi-index, we need to define the indices first."
   ]
  },
  {
   "cell_type": "code",
   "execution_count": null,
   "metadata": {
    "collapsed": true
   },
   "outputs": [],
   "source": [
    "years = list(range(1995,2016))\n",
    "countries=list(trade_data['ReporterName'].unique())"
   ]
  },
  {
   "cell_type": "markdown",
   "metadata": {},
   "source": [
    "We can then build the structure of the multi-index dataframe."
   ]
  },
  {
   "cell_type": "code",
   "execution_count": null,
   "metadata": {
    "collapsed": true
   },
   "outputs": [],
   "source": [
    "data = build_multi_index_df(years,countries)"
   ]
  },
  {
   "cell_type": "markdown",
   "metadata": {},
   "source": [
    "We can then fill the structure with values from the trade data. This iterative approach is quite slow. We use iPython magic to measure execution time. Anecdotally, execution time seems to be around 6-8 minutes."
   ]
  },
  {
   "cell_type": "code",
   "execution_count": null,
   "metadata": {
    "collapsed": true
   },
   "outputs": [],
   "source": [
    "%%timeit -n1 -r1\n",
    "\n",
    "#Caution, takes roughly 6-8 minutes!\n",
    "for index, row in trade_data.iterrows():\n",
    "    for year in years:\n",
    "        year_key=str(year)+\" in 1000 USD \"\n",
    "        data.loc[year][row['ReporterName']][row['PartnerName']]=row[year_key]"
   ]
  },
  {
   "cell_type": "markdown",
   "metadata": {},
   "source": [
    "This data contains many NaN (Not a Number) values, which we fill with 0."
   ]
  },
  {
   "cell_type": "code",
   "execution_count": null,
   "metadata": {
    "collapsed": true
   },
   "outputs": [],
   "source": [
    "data_filled=data.fillna(0)"
   ]
  },
  {
   "cell_type": "markdown",
   "metadata": {},
   "source": [
    "To make data handling easier, we write the created multi-index dataframe to a TSV (tab-separated values) file."
   ]
  },
  {
   "cell_type": "code",
   "execution_count": null,
   "metadata": {
    "collapsed": true
   },
   "outputs": [],
   "source": [
    "data_filled.to_csv('trade_data.tsv', sep='\\t')"
   ]
  },
  {
   "cell_type": "markdown",
   "metadata": {},
   "source": [
    "We then re-import that TSV file. This makes working with the data much easier, as we don't have to recreate it every time we run the notebook, we can just load it from the TSV file. The TSV is attached to the notebook as well."
   ]
  },
  {
   "cell_type": "code",
   "execution_count": null,
   "metadata": {
    "collapsed": true
   },
   "outputs": [],
   "source": [
    "imported_data = pd.read_table('trade_data.tsv', index_col=[0,1])"
   ]
  },
  {
   "cell_type": "markdown",
   "metadata": {},
   "source": [
    "To ensure the data has not been re-shaped during the write/read, we compare it to the original."
   ]
  },
  {
   "cell_type": "code",
   "execution_count": null,
   "metadata": {
    "collapsed": true
   },
   "outputs": [],
   "source": [
    "all(imported_data == data_filled)"
   ]
  },
  {
   "cell_type": "markdown",
   "metadata": {},
   "source": [
    "#### World Bank: World Development Indicators Data\n",
    "In an external Excel sheet, we first define which WDI indicators we would like to import through the wbdata API."
   ]
  },
  {
   "cell_type": "code",
   "execution_count": null,
   "metadata": {
    "collapsed": true
   },
   "outputs": [],
   "source": [
    "indicator_dataframe, indicators, tabnames=GetIndicatorsWB(file='Selected_Indicators.xlsx', sheet='Indicators')"
   ]
  },
  {
   "cell_type": "markdown",
   "metadata": {},
   "source": [
    "We first import income and region data for every country."
   ]
  },
  {
   "cell_type": "code",
   "execution_count": null,
   "metadata": {
    "collapsed": true
   },
   "outputs": [],
   "source": [
    "countries1=GetRegionIncomeDataWB()"
   ]
  },
  {
   "cell_type": "markdown",
   "metadata": {},
   "source": [
    "We then import WDI data for the selected indicators based on 2015 numbers. Our custom function for this attempts to fill in missing values using older data where possible, going back to 2010 at the earliest."
   ]
  },
  {
   "cell_type": "code",
   "execution_count": null,
   "metadata": {
    "collapsed": true
   },
   "outputs": [],
   "source": [
    "wbdata = GetDataWB(indicators,2010, 2015)"
   ]
  },
  {
   "cell_type": "markdown",
   "metadata": {},
   "source": [
    "We add the indicators data to the countries' income and region data."
   ]
  },
  {
   "cell_type": "code",
   "execution_count": null,
   "metadata": {
    "collapsed": true
   },
   "outputs": [],
   "source": [
    "wb_data_countries = countries1.join(wbdata, how='inner')"
   ]
  },
  {
   "cell_type": "markdown",
   "metadata": {},
   "source": [
    "To account for missing income data, we use two functions. The first function identifies which countries are missing data, and then attempts to find other countries in that country's region with comparable income levels to fill the data. We do this because we assume that similarly developed countries in the same region will have comparable WDI indicators statistics.\n",
    "\n",
    "As this does not cover all countries, we then run a simplified version of this method, matching only on region. This guarantees that there will be data for every country, but the data is less accurate."
   ]
  },
  {
   "cell_type": "code",
   "execution_count": null,
   "metadata": {
    "collapsed": true
   },
   "outputs": [],
   "source": [
    "region_income_data=FillByRegionAndIncomeWB(wb_data_countries)\n",
    "region_income_data=FillByRegionWB(region_income_data)"
   ]
  },
  {
   "cell_type": "markdown",
   "metadata": {},
   "source": [
    "We verify that we have a complete data set using another custom function."
   ]
  },
  {
   "cell_type": "code",
   "execution_count": null,
   "metadata": {
    "collapsed": true,
    "scrolled": true
   },
   "outputs": [],
   "source": [
    "DataCompleteness(region_income_data)"
   ]
  },
  {
   "cell_type": "markdown",
   "metadata": {},
   "source": [
    "We create a dictionary to match country names to codes, and vice versa. We will be able to use this to match country names spelled differently in various datasets."
   ]
  },
  {
   "cell_type": "code",
   "execution_count": null,
   "metadata": {
    "collapsed": true
   },
   "outputs": [],
   "source": [
    "dic_cols_wb=countries1['Country Data']\n",
    "country_dic_wb=dic_cols_wb.to_dict()\n",
    "inv_country_dic_wb = {v: k for k, v in country_dic_wb.items()}"
   ]
  },
  {
   "cell_type": "markdown",
   "metadata": {},
   "source": [
    "We compare the dictionaries for World Bank data and trade data to find discrepancies in country names."
   ]
  },
  {
   "cell_type": "code",
   "execution_count": null,
   "metadata": {
    "collapsed": true
   },
   "outputs": [],
   "source": [
    "for item in inv_country_dic_wb:\n",
    "    if item in inv_country_dic:\n",
    "        continue\n",
    "    else:\n",
    "        print(item, inv_country_dic_wb[item])\n",
    "        \n",
    "print('---------------------------')\n",
    "for item in inv_country_dic:\n",
    "    if item in inv_country_dic_wb:\n",
    "        continue\n",
    "    else:\n",
    "        print(item, inv_country_dic[item])"
   ]
  },
  {
   "cell_type": "markdown",
   "metadata": {},
   "source": [
    "Differences in spelling are reasily recognized, the appropriate conversions are written to a conversion dictionary."
   ]
  },
  {
   "cell_type": "code",
   "execution_count": null,
   "metadata": {
    "collapsed": true
   },
   "outputs": [],
   "source": [
    "conversion_dic={'SER':'SRB',\n",
    "               'SUD':'SSD',\n",
    "               'ROM':'ROU'}"
   ]
  },
  {
   "cell_type": "markdown",
   "metadata": {},
   "source": [
    "### Shaping Data\n",
    "#### Trade Percentages\n",
    "Our data for trade between countries is currently in thousand USD. We align the data by instead expressing it in percentages - that is, X percent of country A's total exports go to country B, Y percent go to country C, etc. This will make the emissions calculations easier to execute later on."
   ]
  },
  {
   "cell_type": "markdown",
   "metadata": {},
   "source": [
    "We first make a copy of the multi-index dataframe imported from the trade data TSV file. This ensures we don't accidentally manipulate our base data."
   ]
  },
  {
   "cell_type": "code",
   "execution_count": null,
   "metadata": {
    "collapsed": true
   },
   "outputs": [],
   "source": [
    "percentages_multi = imported_data.copy()"
   ]
  },
  {
   "cell_type": "markdown",
   "metadata": {},
   "source": [
    "We then calculate the percentage-wise exports for every exporter for every year (\"layer\") in the multi-index dataframe."
   ]
  },
  {
   "cell_type": "code",
   "execution_count": null,
   "metadata": {
    "collapsed": true
   },
   "outputs": [],
   "source": [
    "for year in years:\n",
    "    this = percentages_multi.loc[year].div(percentages_multi.loc[year].sum(axis=1), axis=0)\n",
    "    this_filled = this.fillna(0)\n",
    "    percentages_multi.loc[year].update(this_filled)"
   ]
  },
  {
   "cell_type": "markdown",
   "metadata": {},
   "source": [
    "To see how much data is available, we build a custom dataframe showing the year-wise export destinations for each exporter. In other words, we can see, for each year, how many countries every country exported to.\n",
    "\n",
    "As the first year is used to build the dataframe, and then additional years are attached as columns, the first year must be skipped in the iterator. pd.assign() interprets the given column (\"temp\") literally, therefore, the column names must be re-written in each iteration loop."
   ]
  },
  {
   "cell_type": "code",
   "execution_count": null,
   "metadata": {
    "collapsed": true
   },
   "outputs": [],
   "source": [
    "data_points = (percentages_multi.loc[1995] != 0).sum(axis=1).to_frame()\n",
    "data_points.columns = ['1995']\n",
    "\n",
    "i=1\n",
    "for year in years[1:]:\n",
    "    i=i+1\n",
    "    this = (percentages_multi.loc[year] != 0).sum(axis=1)\n",
    "    data_points = data_points.assign(temp = this)\n",
    "    data_points.columns = [years[:i]]\n",
    "    \n",
    "data_points"
   ]
  },
  {
   "cell_type": "markdown",
   "metadata": {},
   "source": [
    "### Connecting Data\n",
    "Nota bene: Due to time concerns, we were not able to conduct our analysis for multiple years. Instead, we decided to focus on a single year which, in our opinion, showed high data quality and availability. With more time, the analysis could easily have been conducted for all the years using the shown procedure."
   ]
  },
  {
   "cell_type": "markdown",
   "metadata": {},
   "source": [
    "We isolate a single yearly slice of the multi-index dataframe for analysis."
   ]
  },
  {
   "cell_type": "code",
   "execution_count": null,
   "metadata": {
    "collapsed": true
   },
   "outputs": [],
   "source": [
    "percentages = 0\n",
    "percentages = percentages_multi.loc[2014]\n",
    "\n",
    "# percentages=pd.DataFrame()\n",
    "# percentage_to_country=imported_data.loc[2014]/imported_data.loc[2014].sum(axis=0)\n",
    "# percentages=percentages.append(percentage_to_country)\n",
    "# percentages=percentages.fillna(0)\n",
    "#TODO decide."
   ]
  },
  {
   "cell_type": "code",
   "execution_count": null,
   "metadata": {
    "collapsed": true
   },
   "outputs": [],
   "source": [
    "percentages"
   ]
  },
  {
   "cell_type": "markdown",
   "metadata": {},
   "source": [
    "We merge the percentages dataframe and the WB data dataframe into one using a custom function, which accounts for different country name spellings by comparing them to the dictionaries created earlier. This will make dataframe operations easier."
   ]
  },
  {
   "cell_type": "code",
   "execution_count": null,
   "metadata": {
    "collapsed": true
   },
   "outputs": [],
   "source": [
    "filled_dataframe=MergeDataFrames(region_income_data, percentages, country_dic_wb, country_dic, conversion_dic)        "
   ]
  },
  {
   "cell_type": "markdown",
   "metadata": {},
   "source": [
    "Countries without complete data (NaN) are removed."
   ]
  },
  {
   "cell_type": "code",
   "execution_count": null,
   "metadata": {
    "collapsed": true
   },
   "outputs": [],
   "source": [
    "filled_dataframe=filled_dataframe.dropna(how='any')"
   ]
  },
  {
   "cell_type": "markdown",
   "metadata": {},
   "source": [
    "We can check how many countries are left by seeing the length of the dataframe."
   ]
  },
  {
   "cell_type": "code",
   "execution_count": null,
   "metadata": {
    "collapsed": true
   },
   "outputs": [],
   "source": [
    "len(filled_dataframe)"
   ]
  },
  {
   "cell_type": "markdown",
   "metadata": {},
   "source": [
    "We drop columns that we're currently not interested in."
   ]
  },
  {
   "cell_type": "code",
   "execution_count": null,
   "metadata": {
    "collapsed": true
   },
   "outputs": [],
   "source": [
    "dont_include=[\"Country Data\",\n",
    "              \"Region\",\n",
    "              \"IncomeGroup\",\n",
    "              \"GDP (current US$)\",\n",
    "              \"Total greenhouse gas emissions (kt of CO2 equivalent)\",\n",
    "              \"GDP (current US$) source\",\n",
    "              \"Total greenhouse gas emissions (kt of CO2 equivalent) source\",\n",
    "             'Exports of goods and services (% of GDP) source',\n",
    "             'Exports of goods and services (% of GDP)']\n",
    "\n",
    "export_cols=filled_dataframe.columns[~filled_dataframe.columns.isin(dont_include)]"
   ]
  },
  {
   "cell_type": "markdown",
   "metadata": {},
   "source": [
    "Now we can find the sum of exports of each country."
   ]
  },
  {
   "cell_type": "code",
   "execution_count": null,
   "metadata": {
    "collapsed": true
   },
   "outputs": [],
   "source": [
    "filled_dataframe['SumOfExports'] = filled_dataframe[export_cols].sum(axis=1)"
   ]
  },
  {
   "cell_type": "markdown",
   "metadata": {},
   "source": [
    "The redistributions to and from each country are calculated."
   ]
  },
  {
   "cell_type": "code",
   "execution_count": null,
   "metadata": {
    "collapsed": true
   },
   "outputs": [],
   "source": [
    "for column in export_cols:\n",
    "    colname='Percentage to ' + column\n",
    "    filled_dataframe[colname]=filled_dataframe[column]/filled_dataframe['SumOfExports']"
   ]
  },
  {
   "cell_type": "markdown",
   "metadata": {},
   "source": [
    "The emissions are connected to the country GDPs and emissions."
   ]
  },
  {
   "cell_type": "code",
   "execution_count": null,
   "metadata": {
    "collapsed": true
   },
   "outputs": [],
   "source": [
    "filled_dataframe['EmissionForExport']=filled_dataframe['Total greenhouse gas emissions (kt of CO2 equivalent)']*(filled_dataframe[\"Exports of goods and services (% of GDP)\"]/100)"
   ]
  },
  {
   "cell_type": "markdown",
   "metadata": {},
   "source": [
    "We then assign each country the emissions it imports."
   ]
  },
  {
   "cell_type": "code",
   "execution_count": null,
   "metadata": {
    "collapsed": true
   },
   "outputs": [],
   "source": [
    "for column in export_cols:\n",
    "    colname='Emissions to ' + column\n",
    "    filled_dataframe[colname]=filled_dataframe['Percentage to ' + column]*filled_dataframe['EmissionForExport']"
   ]
  },
  {
   "cell_type": "markdown",
   "metadata": {},
   "source": [
    "Now we can assign the emissions to the offshoring countries in a new set of columns. However, we will first remove countries with naming issues. These are almost all quite small countries (or territories), therefore this will not disrupt the analysis much."
   ]
  },
  {
   "cell_type": "code",
   "execution_count": null,
   "metadata": {
    "collapsed": true
   },
   "outputs": [],
   "source": [
    "emissions_cols=[col for col in filled_dataframe.columns if 'Emissions to' in col]\n",
    "\n",
    "emissions_dataframe=pd.DataFrame(filled_dataframe[emissions_cols])\n",
    "columns_to_remove=[]\n",
    "for column in emissions_dataframe:\n",
    "    country_name = column.replace('Emissions to ', '')\n",
    "    if country_name not in emissions_dataframe.index:\n",
    "        print('Removing', country_name)\n",
    "        columns_to_remove.append('Emissions to '+country_name)\n",
    "emissions_dataframe.drop(columns_to_remove, axis=1, inplace=True)"
   ]
  },
  {
   "cell_type": "code",
   "execution_count": null,
   "metadata": {
    "collapsed": true
   },
   "outputs": [],
   "source": [
    "emissions_cols=[col for col in filled_dataframe.columns if 'Emissions to' in col]\n",
    "emissions_to_countries=pd.DataFrame(filled_dataframe[emissions_cols].sum(axis=0))\n",
    "emissions_to_countries=emissions_to_countries.reset_index()\n",
    "emissions_to_countries.replace('Emissions to ','',regex=True,inplace=True)\n",
    "emissions_to_countries.set_index('index', inplace=True)\n",
    "emissions_to_countries.index.rename('exporter', inplace=True)"
   ]
  },
  {
   "cell_type": "markdown",
   "metadata": {},
   "source": [
    "Finally, we add each country's own emissions to its' imported emissions, thus measuring every country's \"true\" emissions."
   ]
  },
  {
   "cell_type": "code",
   "execution_count": null,
   "metadata": {
    "collapsed": true
   },
   "outputs": [],
   "source": [
    "filled_dataframe['EmissionsToCountries']=emissions_to_countries[0]\n",
    "filled_dataframe[\"NewEmissions\"]=filled_dataframe['EmissionsToCountries']+(1-filled_dataframe[\"Exports of goods and services (% of GDP)\"]/100)*filled_dataframe[\"Total greenhouse gas emissions (kt of CO2 equivalent)\"]\n",
    "filled_dataframe[\"EmissionDifference\"]=(filled_dataframe[\"NewEmissions\"]-filled_dataframe[\"Total greenhouse gas emissions (kt of CO2 equivalent)\"])"
   ]
  },
  {
   "cell_type": "markdown",
   "metadata": {},
   "source": [
    "### Visualizations\n",
    "Due to the large number of data points we have collected, it is almost impossible to fully visualize the data set. Instead, we will only show a few exemplary visualizations to show both the potential of the data set and various Python visualization packages."
   ]
  },
  {
   "cell_type": "markdown",
   "metadata": {},
   "source": [
    "#### Nominal/True Emissions Comparison\n",
    "We first create a copy of our original dataframe and reset the indices. This ensures it plays nice with the visualisation packages."
   ]
  },
  {
   "cell_type": "code",
   "execution_count": null,
   "metadata": {
    "collapsed": true
   },
   "outputs": [],
   "source": [
    "filled_dataframe1=filled_dataframe.copy()\n",
    "filled_dataframe1=filled_dataframe1.reset_index()"
   ]
  },
  {
   "cell_type": "markdown",
   "metadata": {},
   "source": [
    "We then create a subset dataframe showing only the 10 largest offshorers of emissions, and the 10 largest \"contractors\" for emissions."
   ]
  },
  {
   "cell_type": "code",
   "execution_count": null,
   "metadata": {
    "collapsed": true
   },
   "outputs": [],
   "source": [
    "filled_dataframe2=filled_dataframe1.sort_values('EmissionDifference',ascending=False)[0:20]\n",
    "max_difference_countries=filled_dataframe1.sort_values('EmissionDifference',ascending=False)[0:10]\n",
    "min_difference_countries=filled_dataframe1.sort_values('EmissionDifference',ascending=False).tail(10)"
   ]
  },
  {
   "cell_type": "markdown",
   "metadata": {},
   "source": [
    "We can now visualize the ten largest offshorers of emissions."
   ]
  },
  {
   "cell_type": "code",
   "execution_count": null,
   "metadata": {
    "collapsed": true
   },
   "outputs": [],
   "source": [
    "import plotly.plotly as py\n",
    "import plotly.graph_objs as go\n",
    "\n",
    "#Max diff countries\n",
    "plotly.offline.init_notebook_mode(connected=True)\n",
    "\n",
    "trace1 = go.Bar(\n",
    "    x=max_difference_countries['exporter'],\n",
    "    y=max_difference_countries['NewEmissions'],\n",
    "    name='True Emissions'\n",
    ")\n",
    "\n",
    "trace2 = go.Bar(\n",
    "    x=max_difference_countries['exporter'],\n",
    "    y=max_difference_countries['Total greenhouse gas emissions (kt of CO2 equivalent)'],\n",
    "    name='Nominal Emissions'\n",
    ")\n",
    "\n",
    "data = [trace1, trace2]\n",
    "layout = go.Layout(\n",
    "    barmode='group'\n",
    ")\n",
    "\n",
    "fig = go.Figure(data=data, layout=layout)\n",
    "plotly.offline.iplot(fig)"
   ]
  },
  {
   "cell_type": "markdown",
   "metadata": {},
   "source": [
    "Similarly, the ten largest onshorers for emissions are shown below."
   ]
  },
  {
   "cell_type": "code",
   "execution_count": null,
   "metadata": {
    "collapsed": true
   },
   "outputs": [],
   "source": [
    "plotly.offline.init_notebook_mode(connected=True)\n",
    "\n",
    "# Min diff countries\n",
    "trace1 = go.Bar(\n",
    "    x=min_difference_countries['exporter'],\n",
    "    y=min_difference_countries['NewEmissions'],\n",
    "    name='True Emissions'\n",
    ")\n",
    "\n",
    "trace2 = go.Bar(\n",
    "    x=min_difference_countries['exporter'],\n",
    "    y=min_difference_countries['Total greenhouse gas emissions (kt of CO2 equivalent)'],\n",
    "    name='Nominal Emissions'\n",
    ")\n",
    "\n",
    "data = [trace1, trace2]\n",
    "layout = go.Layout(\n",
    "    barmode='group'\n",
    ")\n",
    "\n",
    "fig = go.Figure(data=data, layout=layout)\n",
    "plotly.offline.iplot(fig)"
   ]
  },
  {
   "cell_type": "markdown",
   "metadata": {},
   "source": [
    "#### Mapping On- and Offshoring\n",
    "We visualize the emissions deltas across the world using geopandas."
   ]
  },
  {
   "cell_type": "code",
   "execution_count": null,
   "metadata": {
    "collapsed": true
   },
   "outputs": [],
   "source": [
    "shapefile='TM_WORLD_BORDERS_SIMPL-0.3/TM_WORLD_BORDERS_SIMPL-0.3.SHP'\n",
    "geo_data = gp.GeoDataFrame.from_file(shapefile)\n",
    "geo_data.head(5)"
   ]
  },
  {
   "cell_type": "code",
   "execution_count": null,
   "metadata": {
    "collapsed": true
   },
   "outputs": [],
   "source": [
    "pd_frame=pd.DataFrame(geo_data)\n",
    "pd_frame.reset_index(inplace=True)"
   ]
  },
  {
   "cell_type": "code",
   "execution_count": null,
   "metadata": {
    "collapsed": true
   },
   "outputs": [],
   "source": [
    "for i in range(len(pd_frame)):\n",
    "    if pd_frame.loc[i]['NAME'] in filled_dataframe.index:\n",
    "        pd_frame.ix[i,'NewEmissions']=filled_dataframe.loc[pd_frame.loc[i]['NAME']]['NewEmissions']\n",
    "        pd_frame.ix[i,'OldEmissions']=filled_dataframe.loc[pd_frame.loc[i]['NAME']]['Total greenhouse gas emissions (kt of CO2 equivalent)']\n",
    "        pd_frame.ix[i,'EmissionsDifference']=filled_dataframe.loc[pd_frame.loc[i]['NAME']]['EmissionDifference']\n",
    "        \n",
    "pd_frame.fillna(0, inplace=True)"
   ]
  },
  {
   "cell_type": "code",
   "execution_count": null,
   "metadata": {
    "collapsed": true
   },
   "outputs": [],
   "source": [
    "geo_data_merged = geo_data.merge(pd_frame[['NewEmissions','OldEmissions','EmissionsDifference']], left_index=True, right_index=True)\n",
    "geo_data_merged.head()"
   ]
  },
  {
   "cell_type": "code",
   "execution_count": null,
   "metadata": {
    "collapsed": true
   },
   "outputs": [],
   "source": [
    "fig2=geo_data_merged.plot(figsize=(30,15),column='EmissionsDifference', scheme='fisher_jenks', alpha=0.9, k=9, linewidth=0.1,\n",
    "             cmap=plt.cm.YlOrRd, legend=False)\n",
    "fig2.tick_params(axis='both',which='major',labelsize=30)\n",
    "fig2.tick_params(axis='both',which='minor',labelsize=18)\n",
    "plt.xlim([-180, 180])\n",
    "plt.ylim([-90, 90])\n",
    "plt.show(fig2)"
   ]
  },
  {
   "cell_type": "markdown",
   "metadata": {},
   "source": [
    "## Analysis\n",
    "When considering the bar plot of the 10 largest offshorers of emissions, we can clearly identify them as highly developed and wealthy countries. This supports our suspicion discussed in the Introduction, namely, that mostly highly developed countries offshore their emissions. However, we expected the amount to be more significant.\n",
    "\n",
    "For the largest onshorers of emissions, we see a bit of a mixed bag. With India, Russia and China, we three large developing industrial countries - this too supports our suspicions from the Introduction. However, the other seven countries are all insignificant nations/territories with essentially no industrial output. Therefore we think it is somewhat unfair to list them in this plot. However, due to time constraints we cannot fix this, or find a better way of identifying the largest \"onshorers\".\n",
    "\n",
    "From the world map, we see that especially Africa and South America are larger offshorers of emissions. This is somewhat unexpected, but is to be expected considering Africa's limited industrial development."
   ]
  },
  {
   "cell_type": "markdown",
   "metadata": {},
   "source": [
    "## Conclusion\n",
    "We find that our initial thoughts about offshoring of GHG emissions hold true: highly developed countries offshore their emissions to less developed countries. However, the magnitude of this off- and onshoring is much less than expected - e.g. we expected a much larger percentage of China's emissions to be export-caused. However, as our analysis also considers imports, this may balance out the exports. In principle, our analytical method has worked, although we do not find the results very significant.\n",
    "\n",
    "Future work could account for different types of goods being traded between countries, which might more closely reflect the emissions offshoring (e.g. heavy industry being offshored to China). Furthermore, it might be interesting to compare national emissions goals (e.g. Kyoto Agreement, Paris Accords, or EU emissions goals) to the \"true\" emissions - are any countries trying to meet emissions goals by simply offshoring their emissions?"
   ]
  },
  {
   "cell_type": "markdown",
   "metadata": {},
   "source": [
    "## Reflection\n",
    "As this is a learning assignment, we decided to note some thoughts and significant learning experiences gathered during the work on this analysis.\n",
    "\n",
    "Our first key learning is that data analysis is messy. Databases have different sizes, naming conventions and classifications. Additionally, data is often missing. We struggled most with the different names and codes for the various codes, which required significant effort to compare, align and modify to work together.\n",
    "\n",
    "Similarly, we found it both necessary and valuable to constantly check our dataframes for size and completeness. We even wrote a custom function just to check this completeness, which saved a lot of time.\n",
    "\n",
    "We implemented a custom .py file to hold all our functions. This helped to keep our report tidy. However, we did notice that most of our functions are only called once - thus making it somewhat pointless to implement them as callable, fruitful functions. However, if we would have had time to expand our analysis to time series rather than just a single year, this might have become more useful.\n",
    "\n",
    "Finally, we used GitHub to do version management on this project. Neither of us had significant previous experience with it, and we probably did not make full use of the git functionalities. However, we did find it made file sharing easier. On a previous project, we had a \"power user\" in our group who had significant GitHub experience, this made the process much easier when more advanced operations beyond push/pull were required. However, we were able to gain valuable experience through this assignment. All material can be found at:\n",
    "\n",
    "https://github.com/swigman/TrueEmissions"
   ]
  },
  {
   "cell_type": "markdown",
   "metadata": {
    "collapsed": true
   },
   "source": [
    "## Data Sources\n",
    "* World Bank: World Development Indicators (accessed through Python API): https://data.worldbank.org/data-catalog/world-development-indicators\n",
    "* World Bank: World Integrated Trade Solution (CSV downloaded from web query): https://wits.worldbank.org/Default.aspx?lang=en"
   ]
  }
 ],
 "metadata": {
  "kernelspec": {
   "display_name": "Python 3",
   "language": "python",
   "name": "python3"
  },
  "language_info": {
   "codemirror_mode": {
    "name": "ipython",
    "version": 3
   },
   "file_extension": ".py",
   "mimetype": "text/x-python",
   "name": "python",
   "nbconvert_exporter": "python",
   "pygments_lexer": "ipython3",
   "version": "3.6.1"
  }
 },
 "nbformat": 4,
 "nbformat_minor": 2
}
